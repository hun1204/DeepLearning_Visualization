{
  "nbformat": 4,
  "nbformat_minor": 0,
  "metadata": {
    "colab": {
      "name": "HEATMAP_CAM.ipynb",
      "provenance": [],
      "collapsed_sections": []
    },
    "kernelspec": {
      "name": "python3",
      "display_name": "Python 3"
    },
    "language_info": {
      "name": "python"
    }
  },
  "cells": [
    {
      "cell_type": "code",
      "metadata": {
        "colab": {
          "base_uri": "https://localhost:8080/"
        },
        "id": "TDdddk-zU7IR",
        "outputId": "1ff02e7a-9efa-4ab9-8a15-17c3cc0439f6"
      },
      "source": [
        "%tensorflow_version 1.x"
      ],
      "execution_count": 1,
      "outputs": [
        {
          "output_type": "stream",
          "text": [
            "TensorFlow 1.x selected.\n"
          ],
          "name": "stdout"
        }
      ]
    },
    {
      "cell_type": "code",
      "metadata": {
        "id": "6vLsXpO-CjJv"
      },
      "source": [
        "from tensorflow.keras.applications.vgg16 import VGG16\n",
        "from keras import backend as K\n",
        "import matplotlib.pyplot as plt\n",
        "import tensorflow as tf\n",
        "import cv2\n",
        "\n",
        "model = VGG16(weights = 'imagenet')"
      ],
      "execution_count": 13,
      "outputs": []
    },
    {
      "cell_type": "code",
      "metadata": {
        "id": "f7l57wihDAje"
      },
      "source": [
        "from keras.preprocessing import image\n",
        "from keras.applications.vgg16 import preprocess_input, decode_predictions\n",
        "import numpy as np\n",
        "\n",
        "img_path = '/content/drive/MyDrive/Colab Notebooks/ICT 이노베이션 스퀘어/06 02 Style Transfer/creative_elephant.jpg'\n",
        "\n",
        "img = image.load_img(img_path, target_size=(224,224))\n",
        "x = image.img_to_array(img)\n",
        "x = np.expand_dims(x, axis=0)\n",
        "x = preprocess_input(x)"
      ],
      "execution_count": 3,
      "outputs": []
    },
    {
      "cell_type": "code",
      "metadata": {
        "colab": {
          "base_uri": "https://localhost:8080/"
        },
        "id": "UkYC7DvyDyxk",
        "outputId": "4dd4b726-c25d-49b1-a1d2-1c319571bc11"
      },
      "source": [
        "preds = model.predict(x)\n",
        "print('Predicted', decode_predictions(preds, top=3)[0])"
      ],
      "execution_count": 4,
      "outputs": [
        {
          "output_type": "stream",
          "text": [
            "Downloading data from https://storage.googleapis.com/download.tensorflow.org/data/imagenet_class_index.json\n",
            "40960/35363 [==================================] - 0s 0us/step\n",
            "Predicted [('n02504458', 'African_elephant', 0.90942043), ('n01871265', 'tusker', 0.08618348), ('n02504013', 'Indian_elephant', 0.004354588)]\n"
          ],
          "name": "stdout"
        }
      ]
    },
    {
      "cell_type": "code",
      "metadata": {
        "id": "liBRDwdqEkJE",
        "colab": {
          "base_uri": "https://localhost:8080/"
        },
        "outputId": "dc69c08d-c13b-43b6-dd6e-a1bed641093e"
      },
      "source": [
        "np.argmax(preds[0])"
      ],
      "execution_count": 5,
      "outputs": [
        {
          "output_type": "execute_result",
          "data": {
            "text/plain": [
              "386"
            ]
          },
          "metadata": {
            "tags": []
          },
          "execution_count": 5
        }
      ]
    },
    {
      "cell_type": "code",
      "metadata": {
        "id": "J2f0bZ2lEnLs",
        "colab": {
          "base_uri": "https://localhost:8080/"
        },
        "outputId": "3784be40-4c0e-4aed-a94c-eadb939275b4"
      },
      "source": [
        "    # 예측 벡터의 '아프리카 코끼리' 항목\n",
        "    african_elephant_output = model.output[:, 386]\n",
        "    \n",
        "    # VGG16의 마지막 합성곱 층인 block5_conv3 층의 특성 맵\n",
        "    last_conv_layer = model.get_layer('block5_conv3')\n",
        "\n",
        "    # block5_conv3의 특성 맵 출력에 대한 '아프리카 코끼리' 클래스의 그래디언트\n",
        "    grads = K.gradients(african_elephant_output, last_conv_layer.output)[0]\n",
        "\n",
        "    # 특성 맵 채널별 그래디언트 평균 값이 담긴 (512,) 크기의 벡터\n",
        "    pooled_grads = K.mean(grads, axis=(0, 1, 2))\n",
        "\n",
        "    # 샘플 이미지가 주어졌을 때 방금 전 정의한 pooled_grads와 block5_conv3의 특성 맵 출력을 구합니다\n",
        "    iterate = K.function([model.input], [pooled_grads, last_conv_layer.output[0]])\n",
        "\n",
        "    # 두 마리 코끼리가 있는 샘플 이미지를 주입하고 두 개의 넘파이 배열을 얻습니다\n",
        "    pooled_grads_value, conv_layer_output_value = iterate([x])\n",
        "\n",
        "    # \"아프리카 코끼리\" 클래스에 대한 \"채널의 중요도\"를 특성 맵 배열의 채널에 곱합니다\n",
        "    for i in range(512):\n",
        "        conv_layer_output_value[:, :, i] *= pooled_grads_value[i]\n",
        "\n",
        "    # 만들어진 특성 맵에서 채널 축을 따라 평균한 값이 클래스 활성화의 히트맵입니다\n",
        "    heatmap = np.mean(conv_layer_output_value, axis=-1)"
      ],
      "execution_count": 6,
      "outputs": [
        {
          "output_type": "stream",
          "text": [
            "WARNING:tensorflow:From /tensorflow-1.15.2/python3.7/keras/backend/tensorflow_backend.py:422: The name tf.global_variables is deprecated. Please use tf.compat.v1.global_variables instead.\n",
            "\n"
          ],
          "name": "stdout"
        }
      ]
    },
    {
      "cell_type": "code",
      "metadata": {
        "id": "ODzvwn-qE__n",
        "colab": {
          "base_uri": "https://localhost:8080/",
          "height": 275
        },
        "outputId": "d82e196a-4fc7-478b-b3c1-4998e878d25d"
      },
      "source": [
        "heatmap = np.maximum(heatmap, 0)\n",
        "heatmap /= np.max(heatmap)\n",
        "plt.matshow(heatmap)\n",
        "plt.show()"
      ],
      "execution_count": 14,
      "outputs": [
        {
          "output_type": "display_data",
          "data": {
            "image/png": "[encoded data removed]",
            "text/plain": [
              "<Figure size 288x288 with 1 Axes>"
            ]
          },
          "metadata": {
            "tags": [],
            "needs_background": "light"
          }
        }
      ]
    },
    {
      "cell_type": "code",
      "metadata": {
        "id": "K6zy7bK4FTu1",
        "colab": {
          "base_uri": "https://localhost:8080/"
        },
        "outputId": "bdf7b796-ecc2-4ae4-af12-f02d54bd3c3e"
      },
      "source": [
        "import cv2\n",
        "\n",
        "img = cv2.imread(img_path)\n",
        "# heatmap을 원본 이미지 크기에 맞게 변경\n",
        "heatmap = cv2.resize(heatmap, (img.shape[1], img.shape[0]))\n",
        "# heatmap을 RGB 포맷으로 변환\n",
        "heatmap = np.uint8(255 * heatmap)\n",
        "# 히트맵으로 변환\n",
        "heatmap = cv2.applyColorMap(heatmap, cv2.COLORMAP_JET)\n",
        "# 0.4는 히트맵의 강도\n",
        "superimposed_img = heatmap * 0.4 + img\n",
        "\n",
        "cv2.imwrite('./creative_elephant.jpg', superimposed_img)"
      ],
      "execution_count": 17,
      "outputs": [
        {
          "output_type": "execute_result",
          "data": {
            "text/plain": [
              "True"
            ]
          },
          "metadata": {
            "tags": []
          },
          "execution_count": 17
        }
      ]
    }
  ]
}