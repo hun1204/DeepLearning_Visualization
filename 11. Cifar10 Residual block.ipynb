{
  "nbformat": 4,
  "nbformat_minor": 0,
  "metadata": {
    "colab": {
      "name": "TF 2.x cifar_10_residual_block.ipynb",
      "provenance": [],
      "collapsed_sections": []
    },
    "kernelspec": {
      "name": "python3",
      "display_name": "Python 3"
    },
    "language_info": {
      "name": "python"
    },
    "accelerator": "GPU"
  },
  "cells": [
    {
      "cell_type": "code",
      "metadata": {
        "id": "SNw0D233vtf8"
      },
      "source": [
        "from tensorflow import keras\n",
        "from tensorflow.keras.datasets import cifar10\n",
        "from tensorflow.keras.models import Sequential, Model\n",
        "from tensorflow.keras.layers import Dense, Dropout, Activation, Flatten, Input\n",
        "from tensorflow.keras.layers import Conv2D, MaxPooling2D, GlobalAveragePooling2D, BatchNormalization\n",
        "\n",
        "import os\n",
        "import tensorflow"
      ],
      "execution_count": 6,
      "outputs": []
    },
    {
      "cell_type": "code",
      "metadata": {
        "id": "fnmfOuF4z9qY"
      },
      "source": [
        "batch_size = 64\n",
        "num_classes = 10\n",
        "epochs = 50"
      ],
      "execution_count": 2,
      "outputs": []
    },
    {
      "cell_type": "code",
      "metadata": {
        "colab": {
          "base_uri": "https://localhost:8080/"
        },
        "id": "M6Xtvi_t0GDf",
        "outputId": "bc616c5b-2eb4-4fb5-d6d5-269851a914f4"
      },
      "source": [
        "(x_train, y_train), (x_test, y_test) = cifar10.load_data()\n",
        "print('x_train.shape : ', x_train.shape)\n",
        "print(x_train.shape[0], 'train samples')\n",
        "print(x_test.shape[0], 'test samples')"
      ],
      "execution_count": 3,
      "outputs": [
        {
          "output_type": "stream",
          "text": [
            "Downloading data from https://www.cs.toronto.edu/~kriz/cifar-10-python.tar.gz\n",
            "170500096/170498071 [==============================] - 4s 0us/step\n",
            "x_train.shape :  (50000, 32, 32, 3)\n",
            "50000 train samples\n",
            "10000 test samples\n"
          ],
          "name": "stdout"
        }
      ]
    },
    {
      "cell_type": "code",
      "metadata": {
        "colab": {
          "base_uri": "https://localhost:8080/"
        },
        "id": "uT5kxw8Q0bUo",
        "outputId": "bb35d182-5faa-45c7-9be0-54b993f267f0"
      },
      "source": [
        "y_train[1]"
      ],
      "execution_count": 4,
      "outputs": [
        {
          "output_type": "execute_result",
          "data": {
            "text/plain": [
              "array([9], dtype=uint8)"
            ]
          },
          "metadata": {
            "tags": []
          },
          "execution_count": 4
        }
      ]
    },
    {
      "cell_type": "code",
      "metadata": {
        "id": "L9vJ9Cmj6Imf"
      },
      "source": [
        "y_train = tensorflow.keras.utils.to_categorical(y_train, num_classes)\n",
        "y_test = tensorflow.keras.utils.to_categorical(y_test, num_classes)"
      ],
      "execution_count": 7,
      "outputs": []
    },
    {
      "cell_type": "code",
      "metadata": {
        "id": "bbR08KTH0dcW"
      },
      "source": [
        "x_train = x_train.astype('float32')\n",
        "x_test = x_test.astype('float32')\n",
        "x_train /= 255\n",
        "x_test /= 255"
      ],
      "execution_count": 8,
      "outputs": []
    },
    {
      "cell_type": "code",
      "metadata": {
        "id": "hDh2chra3rNH"
      },
      "source": [
        "def residual_block(x, nkernels = 8):\n",
        "  identity = x\n",
        "\n",
        "  x = BatchNormalization()(x)\n",
        "  x = Activation('relu')(x)\n",
        "  x = Conv2D(nkernels, 3, activation=None, kernel_initializer='he_normal', padding='same')(x)\n",
        "  x = BatchNormalization()(x)\n",
        "  x = Activation('relu')(x)\n",
        "  x = Conv2D(nkernels, 3, activation=None, kernel_initializer='he_normal', padding='same')(x)\n",
        "\n",
        "  return Activation('relu')(x + identity)"
      ],
      "execution_count": 9,
      "outputs": []
    },
    {
      "cell_type": "code",
      "metadata": {
        "id": "V1aIOwZp40Zl"
      },
      "source": [
        "def model(sz=(32,32,3)):\n",
        "  inputs = Input(sz)\n",
        "  \n",
        "  x = Conv2D(8,3, activation=None, kernel_initializer='he_normal', padding='same')(inputs)\n",
        "  \n",
        "  x = residual_block(x)\n",
        "  x = MaxPooling2D()(x)\n",
        "  x = residual_block(x)\n",
        "  x = MaxPooling2D()(x)\n",
        "  x = residual_block(x)\n",
        "  x = MaxPooling2D()(x)\n",
        "  x = Flatten()(x)\n",
        "  last = Dense(10,activation='softmax')(x)\n",
        "  \n",
        "  model = Model(inputs=inputs, outputs=last)\n",
        "  model.compile(optimizer = 'rmsprop', loss='categorical_crossentropy', metrics=['accuracy'])\n",
        "\n",
        "  return model"
      ],
      "execution_count": 10,
      "outputs": []
    },
    {
      "cell_type": "code",
      "metadata": {
        "id": "4qSDnNfS7FSt"
      },
      "source": [
        "residual_model = model()"
      ],
      "execution_count": 11,
      "outputs": []
    },
    {
      "cell_type": "code",
      "metadata": {
        "colab": {
          "base_uri": "https://localhost:8080/"
        },
        "id": "lzVMRCxw71vW",
        "outputId": "f5aad95d-296c-4034-eebc-1dab181330f2"
      },
      "source": [
        "residual_model.summary()"
      ],
      "execution_count": 12,
      "outputs": [
        {
          "output_type": "stream",
          "text": [
            "Model: \"model\"\n",
            "__________________________________________________________________________________________________\n",
            "Layer (type)                    Output Shape         Param #     Connected to                     \n",
            "==================================================================================================\n",
            "input_1 (InputLayer)            [(None, 32, 32, 3)]  0                                            \n",
            "__________________________________________________________________________________________________\n",
            "conv2d (Conv2D)                 (None, 32, 32, 8)    224         input_1[0][0]                    \n",
            "__________________________________________________________________________________________________\n",
            "batch_normalization (BatchNorma (None, 32, 32, 8)    32          conv2d[0][0]                     \n",
            "__________________________________________________________________________________________________\n",
            "activation (Activation)         (None, 32, 32, 8)    0           batch_normalization[0][0]        \n",
            "__________________________________________________________________________________________________\n",
            "conv2d_1 (Conv2D)               (None, 32, 32, 8)    584         activation[0][0]                 \n",
            "__________________________________________________________________________________________________\n",
            "batch_normalization_1 (BatchNor (None, 32, 32, 8)    32          conv2d_1[0][0]                   \n",
            "__________________________________________________________________________________________________\n",
            "activation_1 (Activation)       (None, 32, 32, 8)    0           batch_normalization_1[0][0]      \n",
            "__________________________________________________________________________________________________\n",
            "conv2d_2 (Conv2D)               (None, 32, 32, 8)    584         activation_1[0][0]               \n",
            "__________________________________________________________________________________________________\n",
            "tf.__operators__.add (TFOpLambd (None, 32, 32, 8)    0           conv2d_2[0][0]                   \n",
            "                                                                 conv2d[0][0]                     \n",
            "__________________________________________________________________________________________________\n",
            "activation_2 (Activation)       (None, 32, 32, 8)    0           tf.__operators__.add[0][0]       \n",
            "__________________________________________________________________________________________________\n",
            "max_pooling2d (MaxPooling2D)    (None, 16, 16, 8)    0           activation_2[0][0]               \n",
            "__________________________________________________________________________________________________\n",
            "batch_normalization_2 (BatchNor (None, 16, 16, 8)    32          max_pooling2d[0][0]              \n",
            "__________________________________________________________________________________________________\n",
            "activation_3 (Activation)       (None, 16, 16, 8)    0           batch_normalization_2[0][0]      \n",
            "__________________________________________________________________________________________________\n",
            "conv2d_3 (Conv2D)               (None, 16, 16, 8)    584         activation_3[0][0]               \n",
            "__________________________________________________________________________________________________\n",
            "batch_normalization_3 (BatchNor (None, 16, 16, 8)    32          conv2d_3[0][0]                   \n",
            "__________________________________________________________________________________________________\n",
            "activation_4 (Activation)       (None, 16, 16, 8)    0           batch_normalization_3[0][0]      \n",
            "__________________________________________________________________________________________________\n",
            "conv2d_4 (Conv2D)               (None, 16, 16, 8)    584         activation_4[0][0]               \n",
            "__________________________________________________________________________________________________\n",
            "tf.__operators__.add_1 (TFOpLam (None, 16, 16, 8)    0           conv2d_4[0][0]                   \n",
            "                                                                 max_pooling2d[0][0]              \n",
            "__________________________________________________________________________________________________\n",
            "activation_5 (Activation)       (None, 16, 16, 8)    0           tf.__operators__.add_1[0][0]     \n",
            "__________________________________________________________________________________________________\n",
            "max_pooling2d_1 (MaxPooling2D)  (None, 8, 8, 8)      0           activation_5[0][0]               \n",
            "__________________________________________________________________________________________________\n",
            "batch_normalization_4 (BatchNor (None, 8, 8, 8)      32          max_pooling2d_1[0][0]            \n",
            "__________________________________________________________________________________________________\n",
            "activation_6 (Activation)       (None, 8, 8, 8)      0           batch_normalization_4[0][0]      \n",
            "__________________________________________________________________________________________________\n",
            "conv2d_5 (Conv2D)               (None, 8, 8, 8)      584         activation_6[0][0]               \n",
            "__________________________________________________________________________________________________\n",
            "batch_normalization_5 (BatchNor (None, 8, 8, 8)      32          conv2d_5[0][0]                   \n",
            "__________________________________________________________________________________________________\n",
            "activation_7 (Activation)       (None, 8, 8, 8)      0           batch_normalization_5[0][0]      \n",
            "__________________________________________________________________________________________________\n",
            "conv2d_6 (Conv2D)               (None, 8, 8, 8)      584         activation_7[0][0]               \n",
            "__________________________________________________________________________________________________\n",
            "tf.__operators__.add_2 (TFOpLam (None, 8, 8, 8)      0           conv2d_6[0][0]                   \n",
            "                                                                 max_pooling2d_1[0][0]            \n",
            "__________________________________________________________________________________________________\n",
            "activation_8 (Activation)       (None, 8, 8, 8)      0           tf.__operators__.add_2[0][0]     \n",
            "__________________________________________________________________________________________________\n",
            "max_pooling2d_2 (MaxPooling2D)  (None, 4, 4, 8)      0           activation_8[0][0]               \n",
            "__________________________________________________________________________________________________\n",
            "flatten (Flatten)               (None, 128)          0           max_pooling2d_2[0][0]            \n",
            "__________________________________________________________________________________________________\n",
            "dense (Dense)                   (None, 10)           1290        flatten[0][0]                    \n",
            "==================================================================================================\n",
            "Total params: 5,210\n",
            "Trainable params: 5,114\n",
            "Non-trainable params: 96\n",
            "__________________________________________________________________________________________________\n"
          ],
          "name": "stdout"
        }
      ]
    },
    {
      "cell_type": "code",
      "metadata": {
        "colab": {
          "base_uri": "https://localhost:8080/"
        },
        "id": "p4CbTmFU76pe",
        "outputId": "3f9adfa4-db25-47d2-8fd2-5ee05c628ad7"
      },
      "source": [
        "trained_model = residual_model.fit(x_train,y_train, batch_size=batch_size,\n",
        "                                   epochs=epochs\n",
        "                                   ,validation_data=(x_test,y_test),\n",
        "                                   shuffle=True)"
      ],
      "execution_count": 13,
      "outputs": [
        {
          "output_type": "stream",
          "text": [
            "Epoch 1/50\n",
            "782/782 [==============================] - 39s 8ms/step - loss: 1.8335 - accuracy: 0.3370 - val_loss: 1.8372 - val_accuracy: 0.3392\n",
            "Epoch 2/50\n",
            "782/782 [==============================] - 6s 8ms/step - loss: 1.4831 - accuracy: 0.4606 - val_loss: 1.5147 - val_accuracy: 0.4531\n",
            "Epoch 3/50\n",
            "782/782 [==============================] - 6s 8ms/step - loss: 1.3755 - accuracy: 0.5000 - val_loss: 1.3611 - val_accuracy: 0.5030\n",
            "Epoch 4/50\n",
            "782/782 [==============================] - 6s 8ms/step - loss: 1.2993 - accuracy: 0.5313 - val_loss: 1.3279 - val_accuracy: 0.5242\n",
            "Epoch 5/50\n",
            "782/782 [==============================] - 6s 8ms/step - loss: 1.2359 - accuracy: 0.5559 - val_loss: 1.2522 - val_accuracy: 0.5463\n",
            "Epoch 6/50\n",
            "782/782 [==============================] - 6s 8ms/step - loss: 1.1760 - accuracy: 0.5780 - val_loss: 1.1849 - val_accuracy: 0.5745\n",
            "Epoch 7/50\n",
            "782/782 [==============================] - 6s 8ms/step - loss: 1.1275 - accuracy: 0.5984 - val_loss: 1.4576 - val_accuracy: 0.5070\n",
            "Epoch 8/50\n",
            "782/782 [==============================] - 6s 8ms/step - loss: 1.0962 - accuracy: 0.6100 - val_loss: 1.2438 - val_accuracy: 0.5573\n",
            "Epoch 9/50\n",
            "782/782 [==============================] - 6s 8ms/step - loss: 1.0688 - accuracy: 0.6199 - val_loss: 1.1911 - val_accuracy: 0.5745\n",
            "Epoch 10/50\n",
            "782/782 [==============================] - 6s 8ms/step - loss: 1.0447 - accuracy: 0.6271 - val_loss: 1.1963 - val_accuracy: 0.5788\n",
            "Epoch 11/50\n",
            "782/782 [==============================] - 6s 7ms/step - loss: 1.0261 - accuracy: 0.6360 - val_loss: 1.0786 - val_accuracy: 0.6187\n",
            "Epoch 12/50\n",
            "782/782 [==============================] - 6s 7ms/step - loss: 1.0106 - accuracy: 0.6412 - val_loss: 1.2609 - val_accuracy: 0.5620\n",
            "Epoch 13/50\n",
            "782/782 [==============================] - 6s 7ms/step - loss: 0.9946 - accuracy: 0.6466 - val_loss: 1.1177 - val_accuracy: 0.6030\n",
            "Epoch 14/50\n",
            "782/782 [==============================] - 6s 8ms/step - loss: 0.9793 - accuracy: 0.6524 - val_loss: 1.0685 - val_accuracy: 0.6236\n",
            "Epoch 15/50\n",
            "782/782 [==============================] - 6s 8ms/step - loss: 0.9672 - accuracy: 0.6565 - val_loss: 1.1573 - val_accuracy: 0.6006\n",
            "Epoch 16/50\n",
            "782/782 [==============================] - 6s 8ms/step - loss: 0.9580 - accuracy: 0.6601 - val_loss: 1.4052 - val_accuracy: 0.5396\n",
            "Epoch 17/50\n",
            "782/782 [==============================] - 6s 8ms/step - loss: 0.9486 - accuracy: 0.6650 - val_loss: 1.2633 - val_accuracy: 0.5671\n",
            "Epoch 18/50\n",
            "782/782 [==============================] - 6s 8ms/step - loss: 0.9378 - accuracy: 0.6686 - val_loss: 1.1992 - val_accuracy: 0.5846\n",
            "Epoch 19/50\n",
            "782/782 [==============================] - 6s 8ms/step - loss: 0.9280 - accuracy: 0.6711 - val_loss: 1.1605 - val_accuracy: 0.5918\n",
            "Epoch 20/50\n",
            "782/782 [==============================] - 6s 8ms/step - loss: 0.9216 - accuracy: 0.6747 - val_loss: 0.9883 - val_accuracy: 0.6559\n",
            "Epoch 21/50\n",
            "782/782 [==============================] - 6s 7ms/step - loss: 0.9125 - accuracy: 0.6763 - val_loss: 1.0197 - val_accuracy: 0.6474\n",
            "Epoch 22/50\n",
            "782/782 [==============================] - 6s 8ms/step - loss: 0.9068 - accuracy: 0.6785 - val_loss: 1.0541 - val_accuracy: 0.6290\n",
            "Epoch 23/50\n",
            "782/782 [==============================] - 6s 8ms/step - loss: 0.9043 - accuracy: 0.6804 - val_loss: 1.1372 - val_accuracy: 0.6126\n",
            "Epoch 24/50\n",
            "782/782 [==============================] - 6s 8ms/step - loss: 0.8958 - accuracy: 0.6824 - val_loss: 1.1185 - val_accuracy: 0.6131\n",
            "Epoch 25/50\n",
            "782/782 [==============================] - 6s 8ms/step - loss: 0.8904 - accuracy: 0.6853 - val_loss: 1.1159 - val_accuracy: 0.6131\n",
            "Epoch 26/50\n",
            "782/782 [==============================] - 6s 8ms/step - loss: 0.8853 - accuracy: 0.6874 - val_loss: 1.3463 - val_accuracy: 0.5640\n",
            "Epoch 27/50\n",
            "782/782 [==============================] - 6s 8ms/step - loss: 0.8806 - accuracy: 0.6898 - val_loss: 1.0476 - val_accuracy: 0.6407\n",
            "Epoch 28/50\n",
            "782/782 [==============================] - 6s 8ms/step - loss: 0.8779 - accuracy: 0.6901 - val_loss: 0.9915 - val_accuracy: 0.6556\n",
            "Epoch 29/50\n",
            "782/782 [==============================] - 6s 8ms/step - loss: 0.8731 - accuracy: 0.6939 - val_loss: 1.0321 - val_accuracy: 0.6418\n",
            "Epoch 30/50\n",
            "782/782 [==============================] - 6s 8ms/step - loss: 0.8670 - accuracy: 0.6934 - val_loss: 1.2683 - val_accuracy: 0.5815\n",
            "Epoch 31/50\n",
            "782/782 [==============================] - 6s 8ms/step - loss: 0.8619 - accuracy: 0.6950 - val_loss: 1.0085 - val_accuracy: 0.6521\n",
            "Epoch 32/50\n",
            "782/782 [==============================] - 6s 8ms/step - loss: 0.8599 - accuracy: 0.6964 - val_loss: 1.0134 - val_accuracy: 0.6500\n",
            "Epoch 33/50\n",
            "782/782 [==============================] - 6s 8ms/step - loss: 0.8549 - accuracy: 0.6975 - val_loss: 1.0531 - val_accuracy: 0.6411\n",
            "Epoch 34/50\n",
            "782/782 [==============================] - 6s 8ms/step - loss: 0.8522 - accuracy: 0.6983 - val_loss: 1.0231 - val_accuracy: 0.6455\n",
            "Epoch 35/50\n",
            "782/782 [==============================] - 6s 8ms/step - loss: 0.8490 - accuracy: 0.7003 - val_loss: 1.0734 - val_accuracy: 0.6317\n",
            "Epoch 36/50\n",
            "782/782 [==============================] - 6s 8ms/step - loss: 0.8479 - accuracy: 0.6992 - val_loss: 1.0255 - val_accuracy: 0.6460\n",
            "Epoch 37/50\n",
            "782/782 [==============================] - 6s 8ms/step - loss: 0.8420 - accuracy: 0.7025 - val_loss: 1.0205 - val_accuracy: 0.6468\n",
            "Epoch 38/50\n",
            "782/782 [==============================] - 6s 7ms/step - loss: 0.8409 - accuracy: 0.7007 - val_loss: 1.0528 - val_accuracy: 0.6493\n",
            "Epoch 39/50\n",
            "782/782 [==============================] - 6s 8ms/step - loss: 0.8369 - accuracy: 0.7041 - val_loss: 1.0029 - val_accuracy: 0.6516\n",
            "Epoch 40/50\n",
            "782/782 [==============================] - 6s 8ms/step - loss: 0.8358 - accuracy: 0.7048 - val_loss: 1.0272 - val_accuracy: 0.6519\n",
            "Epoch 41/50\n",
            "782/782 [==============================] - 6s 8ms/step - loss: 0.8342 - accuracy: 0.7043 - val_loss: 0.9786 - val_accuracy: 0.6631\n",
            "Epoch 42/50\n",
            "782/782 [==============================] - 6s 8ms/step - loss: 0.8314 - accuracy: 0.7049 - val_loss: 0.9761 - val_accuracy: 0.6616\n",
            "Epoch 43/50\n",
            "782/782 [==============================] - 6s 8ms/step - loss: 0.8284 - accuracy: 0.7083 - val_loss: 1.0555 - val_accuracy: 0.6473\n",
            "Epoch 44/50\n",
            "782/782 [==============================] - 6s 8ms/step - loss: 0.8267 - accuracy: 0.7072 - val_loss: 1.0615 - val_accuracy: 0.6476\n",
            "Epoch 45/50\n",
            "782/782 [==============================] - 6s 8ms/step - loss: 0.8229 - accuracy: 0.7105 - val_loss: 1.1105 - val_accuracy: 0.6237\n",
            "Epoch 46/50\n",
            "782/782 [==============================] - 6s 8ms/step - loss: 0.8203 - accuracy: 0.7103 - val_loss: 1.0092 - val_accuracy: 0.6539\n",
            "Epoch 47/50\n",
            "782/782 [==============================] - 6s 8ms/step - loss: 0.8201 - accuracy: 0.7078 - val_loss: 1.0389 - val_accuracy: 0.6487\n",
            "Epoch 48/50\n",
            "782/782 [==============================] - 6s 8ms/step - loss: 0.8175 - accuracy: 0.7100 - val_loss: 0.9920 - val_accuracy: 0.6563\n",
            "Epoch 49/50\n",
            "782/782 [==============================] - 6s 8ms/step - loss: 0.8153 - accuracy: 0.7113 - val_loss: 1.0672 - val_accuracy: 0.6357\n",
            "Epoch 50/50\n",
            "782/782 [==============================] - 6s 8ms/step - loss: 0.8135 - accuracy: 0.7124 - val_loss: 1.0259 - val_accuracy: 0.6539\n"
          ],
          "name": "stdout"
        }
      ]
    },
    {
      "cell_type": "code",
      "metadata": {
        "colab": {
          "base_uri": "https://localhost:8080/"
        },
        "id": "a_55GrBO80zG",
        "outputId": "ecc4a949-ed7f-4cde-cd11-9fd2e488764a"
      },
      "source": [
        "epochs_range = range(50)\n",
        "print(trained_model.history)\n",
        "print(trained_model.history.keys())\n",
        "validation_accuracy = trained_model.history['val_accuracy']\n",
        "training_accuracy = trained_model.history['accuracy']"
      ],
      "execution_count": 22,
      "outputs": [
        {
          "output_type": "stream",
          "text": [
            "{'loss': [1.8334769010543823, 1.4830681085586548, 1.37545907497406, 1.2993040084838867, 1.235893964767456, 1.1759663820266724, 1.1275464296340942, 1.0962040424346924, 1.06881844997406, 1.0447485446929932, 1.026107668876648, 1.010591745376587, 0.9946355223655701, 0.9792935252189636, 0.9671753644943237, 0.9580295085906982, 0.9486027956008911, 0.9378054738044739, 0.9280350804328918, 0.9216258525848389, 0.9124934077262878, 0.906765341758728, 0.9042941927909851, 0.8957657217979431, 0.8903532028198242, 0.8852856755256653, 0.8806427121162415, 0.8778669238090515, 0.8730667233467102, 0.8669783473014832, 0.8619470596313477, 0.8599385023117065, 0.8549243211746216, 0.8521654009819031, 0.8489768505096436, 0.8478867411613464, 0.8419650793075562, 0.8409141898155212, 0.8369027972221375, 0.835769534111023, 0.8342205286026001, 0.8313754200935364, 0.8284389972686768, 0.8267154097557068, 0.8229255676269531, 0.8202793002128601, 0.8200817108154297, 0.8175103068351746, 0.8152833580970764, 0.8135371208190918], 'accuracy': [0.3370400071144104, 0.4605799913406372, 0.5000399947166443, 0.531279981136322, 0.5558800101280212, 0.5780199766159058, 0.5983800292015076, 0.6100000143051147, 0.6199399828910828, 0.6270599961280823, 0.6359599828720093, 0.641219973564148, 0.6466400027275085, 0.6523600220680237, 0.6564599871635437, 0.6601399779319763, 0.6649600267410278, 0.6686400175094604, 0.6711199879646301, 0.6746799945831299, 0.6763200163841248, 0.6785399913787842, 0.680400013923645, 0.6823800206184387, 0.685259997844696, 0.6873999834060669, 0.6898199915885925, 0.690060019493103, 0.6939200162887573, 0.6933799982070923, 0.6949599981307983, 0.6963800191879272, 0.6974599957466125, 0.6983199715614319, 0.7002800107002258, 0.6992400288581848, 0.702459990978241, 0.7007200121879578, 0.7041000127792358, 0.704800009727478, 0.7043200135231018, 0.7049000263214111, 0.7082599997520447, 0.7071800231933594, 0.7105000019073486, 0.710319995880127, 0.7077599763870239, 0.7099800109863281, 0.7112799882888794, 0.7123799920082092], 'val_loss': [1.837181806564331, 1.514687180519104, 1.3610769510269165, 1.3279489278793335, 1.2522103786468506, 1.1848552227020264, 1.4575538635253906, 1.2438099384307861, 1.191071629524231, 1.1963297128677368, 1.0785638093948364, 1.2608741521835327, 1.1177244186401367, 1.068505048751831, 1.157310128211975, 1.4052308797836304, 1.2633496522903442, 1.1991702318191528, 1.160502314567566, 0.9882645606994629, 1.0197417736053467, 1.0541069507598877, 1.13724946975708, 1.118453025817871, 1.1159298419952393, 1.3463047742843628, 1.0475964546203613, 0.9914677739143372, 1.03206205368042, 1.2683205604553223, 1.008545160293579, 1.0134485960006714, 1.0530952215194702, 1.0231115818023682, 1.0733717679977417, 1.025549292564392, 1.020490288734436, 1.0528271198272705, 1.0029486417770386, 1.0271974802017212, 0.9786349534988403, 0.9760720729827881, 1.0555126667022705, 1.0615408420562744, 1.1104966402053833, 1.009203314781189, 1.0389366149902344, 0.9920471906661987, 1.0671956539154053, 1.0258840322494507], 'val_accuracy': [0.3391999900341034, 0.4530999958515167, 0.503000020980835, 0.5242000222206116, 0.5462999939918518, 0.5745000243186951, 0.5070000290870667, 0.5572999715805054, 0.5745000243186951, 0.5788000226020813, 0.6187000274658203, 0.5619999766349792, 0.6029999852180481, 0.6236000061035156, 0.600600004196167, 0.5396000146865845, 0.5670999884605408, 0.5845999717712402, 0.5917999744415283, 0.6559000015258789, 0.6474000215530396, 0.6290000081062317, 0.6126000285148621, 0.613099992275238, 0.613099992275238, 0.5640000104904175, 0.6406999826431274, 0.6556000113487244, 0.6417999863624573, 0.5814999938011169, 0.6521000266075134, 0.6499999761581421, 0.6410999894142151, 0.6455000042915344, 0.6316999793052673, 0.6460000276565552, 0.6467999815940857, 0.6492999792098999, 0.6516000032424927, 0.6518999934196472, 0.663100004196167, 0.6615999937057495, 0.6473000049591064, 0.647599995136261, 0.6237000226974487, 0.6539000272750854, 0.6486999988555908, 0.6563000082969666, 0.635699987411499, 0.6539000272750854]}\n",
            "dict_keys(['loss', 'accuracy', 'val_loss', 'val_accuracy'])\n"
          ],
          "name": "stdout"
        }
      ]
    },
    {
      "cell_type": "code",
      "metadata": {
        "colab": {
          "base_uri": "https://localhost:8080/",
          "height": 279
        },
        "id": "TBzK276v98Se",
        "outputId": "5b2e1883-e800-4e1b-93f9-93e8293573a6"
      },
      "source": [
        "import matplotlib.pyplot as plt\n",
        "plt.plot(epochs_range, training_accuracy, 'b+', label='training accuracy')\n",
        "plt.plot(epochs_range, validation_accuracy, 'bo', label='validation accuracy')\n",
        "plt.xlabel('Epochs')\n",
        "plt.ylabel('Validation accuracy')\n",
        "plt.legend()\n",
        "\n",
        "plt.show()"
      ],
      "execution_count": 23,
      "outputs": [
        {
          "output_type": "display_data",
          "data": {
            "image/png": "[encoded data removed]",
            "text/plain": [
              "<Figure size 432x288 with 1 Axes>"
            ]
          },
          "metadata": {
            "tags": [],
            "needs_background": "light"
          }
        }
      ]
    },
    {
      "cell_type": "code",
      "metadata": {
        "id": "eGtFc8jO-plg",
        "colab": {
          "base_uri": "https://localhost:8080/"
        },
        "outputId": "3ca582e4-c604-4252-8162-959a182b5c2e"
      },
      "source": [
        "scores = residual_model.evaluate(x_test, y_test, verbose=1)\n",
        "print('Test loss:', scores[0])\n",
        "print('Test accuracy:', scores[1])"
      ],
      "execution_count": 26,
      "outputs": [
        {
          "output_type": "stream",
          "text": [
            "313/313 [==============================] - 1s 3ms/step - loss: 1.0259 - accuracy: 0.6539\n",
            "Test loss: 1.0258840322494507\n",
            "Test accuracy: 0.6539000272750854\n"
          ],
          "name": "stdout"
        }
      ]
    }
  ]
}