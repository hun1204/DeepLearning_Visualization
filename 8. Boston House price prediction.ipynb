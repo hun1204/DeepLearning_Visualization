{
  "nbformat": 4,
  "nbformat_minor": 0,
  "metadata": {
    "colab": {
      "name": "TF 2.x Boston_House_price_prediction_with_linear_regression.ipynb",
      "provenance": [],
      "collapsed_sections": []
    },
    "kernelspec": {
      "name": "python3",
      "display_name": "Python 3"
    },
    "language_info": {
      "name": "python"
    }
  },
  "cells": [
    {
      "cell_type": "code",
      "metadata": {
        "colab": {
          "base_uri": "https://localhost:8080/",
          "height": 35
        },
        "id": "HRU9ZqTkULMy",
        "outputId": "4aaed893-4a37-4296-9a97-8cfc78243507"
      },
      "source": [
        "from tensorflow import keras\n",
        "keras.__version__"
      ],
      "execution_count": null,
      "outputs": [
        {
          "output_type": "execute_result",
          "data": {
            "application/vnd.google.colaboratory.intrinsic+json": {
              "type": "string"
            },
            "text/plain": [
              "'2.5.0'"
            ]
          },
          "metadata": {
            "tags": []
          },
          "execution_count": 44
        }
      ]
    },
    {
      "cell_type": "code",
      "metadata": {
        "id": "h5eakPI7UV8R"
      },
      "source": [
        "from tensorflow.keras.datasets import boston_housing\n",
        "(train_data, train_targets), (test_data, test_targets) = boston_housing.load_data()"
      ],
      "execution_count": null,
      "outputs": []
    },
    {
      "cell_type": "code",
      "metadata": {
        "colab": {
          "base_uri": "https://localhost:8080/"
        },
        "id": "SOsiPtnqVDDR",
        "outputId": "fed89f3c-0dfd-4abd-cfe5-d424947a450f"
      },
      "source": [
        "print(train_data.shape, train_targets.shape, test_data.shape, test_targets.shape)"
      ],
      "execution_count": null,
      "outputs": [
        {
          "output_type": "stream",
          "text": [
            "(404, 13) (404,) (102, 13) (102,)\n"
          ],
          "name": "stdout"
        }
      ]
    },
    {
      "cell_type": "code",
      "metadata": {
        "colab": {
          "base_uri": "https://localhost:8080/"
        },
        "id": "YqdqJ3XoVL-X",
        "outputId": "0fafabf0-f4de-4799-de3b-3bcb9d2203cc"
      },
      "source": [
        "print(train_data[0], train_targets[0])"
      ],
      "execution_count": null,
      "outputs": [
        {
          "output_type": "stream",
          "text": [
            "[  1.23247   0.        8.14      0.        0.538     6.142    91.7\n",
            "   3.9769    4.      307.       21.      396.9      18.72   ] 15.2\n"
          ],
          "name": "stdout"
        }
      ]
    },
    {
      "cell_type": "markdown",
      "metadata": {
        "id": "lNQwiHApVZmn"
      },
      "source": [
        " [01]  CRIM 자치시(town) 별 1인당 범죄율  \n",
        " [02]  ZN 25,000 평방피트를 초과하는 거주지역의 비율  \n",
        " [03]  INDUS 비소매상업지역이 점유하고 있는 토지의 비율  \n",
        " [04]  CHAS 찰스강에 대한 더미변수(강의 경계에 위치한 경우는 1, 아니면 0)  \n",
        " [05]  NOX 10ppm 당 농축 일산화질소  \n",
        " [06]  RM 주택 1가구당 평균 방의 개수  \n",
        " [07]  AGE 1940년 이전에 건축된 소유주택의 비율  \n",
        " [08]  DIS 5개의 보스턴 직업센터까지의 접근성 지수  \n",
        " [09]  RAD 방사형 도로까지의 접근성 지수  \n",
        " [10]  TAX 10,000 달러 당 재산세율  \n",
        " [11]  PTRATIO 자치시(town)별 학생/교사 비율  \n",
        " [12]  B 1000(Bk-0.63)^2, 여기서 Bk는 자치시별 흑인의 비율을 말함.  \n",
        " [13]  LSTAT 모집단의 하위계층의 비율(%)  \n",
        " [14]  MEDV 본인 소유의 주택가격(중앙값) (단위: $1,000)\n"
      ]
    },
    {
      "cell_type": "code",
      "metadata": {
        "colab": {
          "base_uri": "https://localhost:8080/"
        },
        "id": "XZH_f5qwValQ",
        "outputId": "c0473ba5-e372-49d4-d0ff-40bf7900c4ea"
      },
      "source": [
        "mean = train_data.mean(axis=0)\n",
        "print(mean.shape)"
      ],
      "execution_count": null,
      "outputs": [
        {
          "output_type": "stream",
          "text": [
            "(13,)\n"
          ],
          "name": "stdout"
        }
      ]
    },
    {
      "cell_type": "code",
      "metadata": {
        "id": "BSa0hkCeVgZg"
      },
      "source": [
        "# train data standardization\n",
        "mean = train_data.mean(axis=0)\n",
        "train_data -= mean\n",
        "std = train_data.std(axis=0)\n",
        "train_data /= std\n",
        "\n",
        "# test data standardization\n",
        "test_data -= mean\n",
        "test_data/= std\n",
        "\n",
        "# 위 두개는 z - transformation\n",
        "# 표준화(각 값들의 분산.)"
      ],
      "execution_count": null,
      "outputs": []
    },
    {
      "cell_type": "code",
      "metadata": {
        "colab": {
          "base_uri": "https://localhost:8080/"
        },
        "id": "o3x3VwUhWtzB",
        "outputId": "8e13a77c-3ea6-492b-ccd1-e053cd802902"
      },
      "source": [
        "print(train_data[0], train_targets[0])"
      ],
      "execution_count": null,
      "outputs": [
        {
          "output_type": "stream",
          "text": [
            "[-0.27224633 -0.48361547 -0.43576161 -0.25683275 -0.1652266  -0.1764426\n",
            "  0.81306188  0.1166983  -0.62624905 -0.59517003  1.14850044  0.44807713\n",
            "  0.8252202 ] 15.2\n"
          ],
          "name": "stdout"
        }
      ]
    },
    {
      "cell_type": "code",
      "metadata": {
        "colab": {
          "base_uri": "https://localhost:8080/"
        },
        "id": "P1MfJvgQXBmp",
        "outputId": "e19fd9f9-03e0-41cb-e554-b52123ede12b"
      },
      "source": [
        "# sigmoid함수 사용한다가정하면\n",
        "min_of_target = train_targets.min(axis=0)\n",
        "max_of_target = train_targets.max(axis=0)\n",
        "print(min_of_target, max_of_target)"
      ],
      "execution_count": null,
      "outputs": [
        {
          "output_type": "stream",
          "text": [
            "5.0 50.0\n"
          ],
          "name": "stdout"
        }
      ]
    },
    {
      "cell_type": "code",
      "metadata": {
        "colab": {
          "base_uri": "https://localhost:8080/"
        },
        "id": "QSAh-HmLXXXg",
        "outputId": "e89e688c-8e1c-45fa-f6a8-f06420149282"
      },
      "source": [
        "normalized_target = (train_targets - min_of_target)/(max_of_target - min_of_target)\n",
        "print(normalized_target, normalized_target.min(), normalized_target.max())"
      ],
      "execution_count": null,
      "outputs": [
        {
          "output_type": "stream",
          "text": [
            "[0.22666667 0.82888889 1.         0.35777778 0.28222222 0.3\n",
            " 0.14       0.23555556 0.23555556 0.20888889 0.15777778 0.28666667\n",
            " 0.40222222 0.33111111 0.23777778 0.08444444 1.         0.38888889\n",
            " 0.42444444 0.5        0.13111111 0.57333333 0.62       0.42222222\n",
            " 0.3        0.18444444 0.39777778 0.66       0.25777778 0.27777778\n",
            " 0.38444444 0.24666667 0.22       0.40222222 0.66444444 0.44444444\n",
            " 0.19777778 0.18       0.34222222 0.33333333 0.22666667 0.43777778\n",
            " 0.38222222 0.26       0.17111111 0.23555556 0.29777778 0.35555556\n",
            " 0.55777778 0.22444444 0.30444444 0.10222222 0.58888889 0.44\n",
            " 0.31333333 0.37777778 0.21111111 0.13333333 0.6        0.54222222\n",
            " 0.34       0.43111111 0.21333333 0.32222222 0.20222222 0.20666667\n",
            " 0.23555556 0.12222222 0.02888889 0.31777778 0.31777778 0.18666667\n",
            " 0.69777778 0.28444444 0.18888889 0.25555556 0.07333333 0.20666667\n",
            " 0.24444444 0.18666667 0.52444444 0.85555556 0.33777778 0.37777778\n",
            " 0.4        0.34888889 0.16666667 0.96666667 0.21333333 0.18666667\n",
            " 0.41555556 1.         0.37111111 0.77333333 0.74888889 0.38222222\n",
            " 0.66444444 0.38888889 0.58       0.52666667 0.91111111 0.81555556\n",
            " 0.35555556 0.48       0.22222222 0.43111111 0.18444444 0.36\n",
            " 0.14888889 0.37111111 0.32       1.         0.39555556 0.32666667\n",
            " 0.43777778 0.69333333 0.20444444 0.30888889 0.29555556 0.34666667\n",
            " 0.43555556 0.29333333 0.08222222 0.86666667 0.12       0.18222222\n",
            " 0.36       0.71111111 0.57111111 0.39777778 0.33333333 0.31777778\n",
            " 0.59333333 0.6        0.40222222 0.30666667 0.13111111 1.\n",
            " 0.32444444 0.         0.20888889 0.32888889 0.19555556 0.32444444\n",
            " 0.42       0.43333333 0.44444444 0.33111111 0.27111111 0.43555556\n",
            " 0.18888889 0.48       0.36444444 0.15333333 0.39111111 0.32444444\n",
            " 0.07777778 0.41555556 0.40222222 0.38666667 0.34444444 0.41333333\n",
            " 0.29777778 0.67111111 0.40222222 0.50888889 0.34666667 0.41555556\n",
            " 0.51111111 0.19111111 0.49111111 0.41333333 0.34666667 0.29333333\n",
            " 0.37111111 0.26888889 0.07555556 0.45111111 0.19555556 0.38222222\n",
            " 0.29777778 0.34888889 0.59111111 0.56666667 0.34       0.08444444\n",
            " 0.31555556 0.32       0.40222222 0.4        0.21777778 0.97333333\n",
            " 0.39111111 0.63111111 0.35777778 0.19111111 0.60444444 0.18\n",
            " 0.40888889 0.30888889 0.42       0.15111111 0.40666667 0.39555556\n",
            " 0.32444444 0.26       0.18666667 0.38222222 0.34222222 0.37333333\n",
            " 0.47555556 0.22       0.42444444 0.41777778 0.16222222 0.53555556\n",
            " 0.35555556 0.32222222 0.40666667 0.41777778 0.28444444 0.14444444\n",
            " 0.37111111 0.33111111 0.44444444 0.63111111 0.52222222 0.36444444\n",
            " 0.42888889 0.5        0.62444444 0.24888889 0.40666667 0.96222222\n",
            " 0.39777778 0.39555556 0.18       0.17111111 0.39111111 0.22222222\n",
            " 0.22888889 0.12222222 0.42222222 0.3        0.37111111 0.32222222\n",
            " 0.62666667 0.40444444 0.         0.31333333 0.17111111 0.38444444\n",
            " 0.11555556 0.19777778 0.25111111 0.26666667 0.33555556 0.55333333\n",
            " 0.27111111 0.71777778 0.89777778 0.28444444 0.40444444 0.53333333\n",
            " 0.37777778 0.28888889 0.27555556 0.65777778 0.33555556 0.44444444\n",
            " 0.23555556 0.44       0.51555556 0.36       0.36444444 0.41777778\n",
            " 0.57777778 0.47111111 0.27555556 0.73111111 0.27777778 0.33333333\n",
            " 0.07333333 0.42       0.07555556 0.19555556 0.04888889 0.14888889\n",
            " 0.26888889 0.36888889 1.         0.24666667 0.34222222 0.34666667\n",
            " 0.36444444 0.34666667 0.7        0.07777778 0.44       0.12888889\n",
            " 0.37555556 0.27333333 0.30888889 0.69333333 0.22       0.29333333\n",
            " 0.62888889 0.37333333 0.32666667 0.59111111 0.44       0.32\n",
            " 0.39555556 0.05555556 0.88444444 0.26222222 0.30444444 1.\n",
            " 1.         0.32222222 0.33555556 1.         0.27111111 0.35111111\n",
            " 0.31777778 0.80666667 0.34222222 0.34444444 0.19555556 0.25555556\n",
            " 0.42       0.34666667 0.58888889 0.40666667 0.26222222 0.2\n",
            " 0.64       0.69111111 0.17333333 0.29555556 0.30444444 0.31333333\n",
            " 0.53333333 0.55777778 1.         1.         0.37777778 0.15333333\n",
            " 0.72444444 1.         0.39333333 0.35111111 0.41111111 0.50888889\n",
            " 1.         0.31777778 0.42       0.39111111 0.22666667 0.37111111\n",
            " 0.31555556 0.86222222 0.34       0.62666667 0.33111111 0.38888889\n",
            " 0.61555556 0.37777778 0.26888889 0.31111111 0.22222222 0.24666667\n",
            " 0.44666667 0.41555556 0.52666667 0.71555556 0.39111111 0.25333333\n",
            " 0.44444444 0.55111111 0.38       0.27555556 0.29111111 0.56222222\n",
            " 0.27777778 0.43777778 0.16888889 0.47777778 0.52666667 0.18444444\n",
            " 0.12       0.43111111 0.4        0.33333333 0.28444444 0.04444444\n",
            " 0.15111111 0.43111111 0.19555556 0.32       0.44888889 0.32\n",
            " 0.32       0.53555556] 0.0 1.0\n"
          ],
          "name": "stdout"
        }
      ]
    },
    {
      "cell_type": "code",
      "metadata": {
        "id": "fH80AMT5ZCl4"
      },
      "source": [
        "from tensorflow.keras import models\n",
        "from tensorflow.keras.layers import Dense"
      ],
      "execution_count": null,
      "outputs": []
    },
    {
      "cell_type": "code",
      "metadata": {
        "id": "eVZeBK_aZWNo"
      },
      "source": [
        "def build_model():\n",
        "  model = models.Sequential()\n",
        "  model.add(Dense(64, activation='relu', input_shape=(train_data.shape[1],)))\n",
        "  model.add(Dense(32, activation='relu'))\n",
        "  model.add(Dense(1, activation=None))\n",
        "  model.compile(optimizer='rmsprop', loss='mse', metrics=['mae'])\n",
        "  return model"
      ],
      "execution_count": null,
      "outputs": []
    },
    {
      "cell_type": "code",
      "metadata": {
        "id": "aaVCM-7caA2A",
        "colab": {
          "base_uri": "https://localhost:8080/"
        },
        "outputId": "c2286be0-3ac8-467c-d691-620a63a0cda2"
      },
      "source": [
        "import numpy as np\n",
        "\n",
        "k = 5\n",
        "\n",
        "num_val_samples = len(train_data) // k\n",
        "num_epochs = 30\n",
        "all_scores = []\n",
        "for i in range(k):\n",
        "  print('처리중인 폴드 #', i)\n",
        "  # 검증 데이터 준비: k번째 분할\n",
        "  val_data = train_data[i * num_val_samples: (i+1)*num_val_samples]\n",
        "  val_targets = train_targets[i * num_val_samples: (i+1)*num_val_samples]\n",
        "\n",
        "  # 훈련 데이터 준비: 다른 분할 전체\n",
        "  partial_train_data = np.concatenate([train_data[:i*num_val_samples],train_data[(i+1)*num_val_samples:]], axis=0)\n",
        "  partial_train_targets = np.concatenate([train_targets[:i*num_val_samples],train_targets[(i+1)*num_val_samples:]], axis=0)\n",
        "\n",
        "  # 케라스 모델 구성\n",
        "  model = build_model()\n",
        "\n",
        "  # 모델 훈련\n",
        "  model.fit(partial_train_data, partial_train_targets,\n",
        "            epochs=num_epochs, batch_size=10,verbose=0)\n",
        "  \n",
        "  # 모델 평가\n",
        "  val_mse, val_mae = model.evaluate(val_data, val_targets, verbose=1)\n",
        "  print(val_mae)\n",
        "  all_scores.append(val_mae)"
      ],
      "execution_count": null,
      "outputs": [
        {
          "output_type": "stream",
          "text": [
            "처리중인 폴드 # 0\n",
            "WARNING:tensorflow:5 out of the last 13 calls to <function Model.make_test_function.<locals>.test_function at 0x7eff6cf7c830> triggered tf.function retracing. Tracing is expensive and the excessive number of tracings could be due to (1) creating @tf.function repeatedly in a loop, (2) passing tensors with different shapes, (3) passing Python objects instead of tensors. For (1), please define your @tf.function outside of the loop. For (2), @tf.function has experimental_relax_shapes=True option that relaxes argument shapes that can avoid unnecessary retracing. For (3), please refer to https://www.tensorflow.org/guide/function#controlling_retracing and https://www.tensorflow.org/api_docs/python/tf/function for  more details.\n",
            "3/3 [==============================] - 0s 3ms/step - loss: 7.8999 - mae: 1.9807\n",
            "1.9807170629501343\n",
            "처리중인 폴드 # 1\n",
            "3/3 [==============================] - 0s 3ms/step - loss: 13.1806 - mae: 2.8065\n",
            "2.8064777851104736\n",
            "처리중인 폴드 # 2\n",
            "3/3 [==============================] - 0s 3ms/step - loss: 9.8750 - mae: 2.4926\n",
            "2.4926249980926514\n",
            "처리중인 폴드 # 3\n",
            "3/3 [==============================] - 0s 3ms/step - loss: 17.3209 - mae: 2.5342\n",
            "2.5342049598693848\n",
            "처리중인 폴드 # 4\n",
            "3/3 [==============================] - 0s 3ms/step - loss: 16.1244 - mae: 2.8334\n",
            "2.833406925201416\n"
          ],
          "name": "stdout"
        }
      ]
    },
    {
      "cell_type": "code",
      "metadata": {
        "colab": {
          "base_uri": "https://localhost:8080/"
        },
        "id": "A-OIzR6ihLWr",
        "outputId": "4f2ca10c-d2dc-44aa-991c-ee7f5821bf76"
      },
      "source": [
        "all_scores"
      ],
      "execution_count": null,
      "outputs": [
        {
          "output_type": "execute_result",
          "data": {
            "text/plain": [
              "[1.9807170629501343,\n",
              " 2.8064777851104736,\n",
              " 2.4926249980926514,\n",
              " 2.5342049598693848,\n",
              " 2.833406925201416]"
            ]
          },
          "metadata": {
            "tags": []
          },
          "execution_count": 56
        }
      ]
    },
    {
      "cell_type": "code",
      "metadata": {
        "colab": {
          "base_uri": "https://localhost:8080/"
        },
        "id": "HC52eDUKhOQj",
        "outputId": "d95f66d2-9c4c-4d0b-b772-423f21054d98"
      },
      "source": [
        "np.mean(all_scores)"
      ],
      "execution_count": null,
      "outputs": [
        {
          "output_type": "execute_result",
          "data": {
            "text/plain": [
              "2.529486346244812"
            ]
          },
          "metadata": {
            "tags": []
          },
          "execution_count": 57
        }
      ]
    },
    {
      "cell_type": "code",
      "metadata": {
        "id": "y8XBNZxdhbg7"
      },
      "source": [
        "predictedHousePrice = model.predict(val_data)"
      ],
      "execution_count": null,
      "outputs": []
    },
    {
      "cell_type": "code",
      "metadata": {
        "colab": {
          "base_uri": "https://localhost:8080/"
        },
        "id": "PkWq5D1_hmIp",
        "outputId": "f047b752-5b18-4193-a90d-0efac3120bb1"
      },
      "source": [
        "print(predictedHousePrice[1], val_targets[1])"
      ],
      "execution_count": null,
      "outputs": [
        {
          "output_type": "stream",
          "text": [
            "[29.556824] 50.0\n"
          ],
          "name": "stdout"
        }
      ]
    },
    {
      "cell_type": "code",
      "metadata": {
        "id": "Tj19AFoQhqVS"
      },
      "source": [
        "new_data = [1.47, 0.0, 8.14, 0.0, 0.53, 6.1, 91.7, 4.9769,  4.12,  307.6 ,  22,  296.9, 18.72]"
      ],
      "execution_count": null,
      "outputs": []
    },
    {
      "cell_type": "code",
      "metadata": {
        "colab": {
          "base_uri": "https://localhost:8080/"
        },
        "id": "n1ICDKiPhtL5",
        "outputId": "2858771a-d7cf-4ba7-8032-ca49d8decf15"
      },
      "source": [
        "new_data -= mean\n",
        "new_data /= std\n",
        "\n",
        "print(new_data.shape)"
      ],
      "execution_count": null,
      "outputs": [
        {
          "output_type": "stream",
          "text": [
            "(13,)\n"
          ],
          "name": "stdout"
        }
      ]
    },
    {
      "cell_type": "code",
      "metadata": {
        "colab": {
          "base_uri": "https://localhost:8080/"
        },
        "id": "ucmf192Xh12a",
        "outputId": "8db3444b-9bea-4723-8e5e-2c5cf0658046"
      },
      "source": [
        "new_data = np.asarray(new_data)\n",
        "new_data = np.expand_dims(new_data, axis=0)\n",
        "print(new_data.shape)"
      ],
      "execution_count": null,
      "outputs": [
        {
          "output_type": "stream",
          "text": [
            "(1, 13)\n"
          ],
          "name": "stdout"
        }
      ]
    },
    {
      "cell_type": "code",
      "metadata": {
        "colab": {
          "base_uri": "https://localhost:8080/"
        },
        "id": "WWTvRKmriGGC",
        "outputId": "51ee4386-a589-4eae-9e49-709540536132"
      },
      "source": [
        "model.predict(new_data)"
      ],
      "execution_count": null,
      "outputs": [
        {
          "output_type": "execute_result",
          "data": {
            "text/plain": [
              "array([[13.980411]], dtype=float32)"
            ]
          },
          "metadata": {
            "tags": []
          },
          "execution_count": 63
        }
      ]
    },
    {
      "cell_type": "code",
      "metadata": {
        "colab": {
          "base_uri": "https://localhost:8080/"
        },
        "id": "yB2V3kfciJh8",
        "outputId": "7aa0e719-634f-4144-b39f-30ff2fe0bfae"
      },
      "source": [
        "test_mse, test_mae = model.evaluate(test_data, test_targets, verbose=0)\n",
        "print(test_mse, test_mae)"
      ],
      "execution_count": null,
      "outputs": [
        {
          "output_type": "stream",
          "text": [
            "17.63985824584961 2.89180326461792\n"
          ],
          "name": "stdout"
        }
      ]
    }
  ]
}