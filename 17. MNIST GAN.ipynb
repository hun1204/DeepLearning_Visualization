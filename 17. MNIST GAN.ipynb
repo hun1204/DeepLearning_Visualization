{
  "nbformat": 4,
  "nbformat_minor": 0,
  "metadata": {
    "colab": {
      "name": "TF 2.x MNIST_GAN_KERAS.ipynb",
      "provenance": [],
      "collapsed_sections": []
    },
    "kernelspec": {
      "name": "python3",
      "display_name": "Python 3"
    },
    "language_info": {
      "name": "python"
    },
    "accelerator": "GPU"
  },
  "cells": [
    {
      "cell_type": "code",
      "metadata": {
        "id": "-hShxyVbieB-"
      },
      "source": [
        "import sys\n",
        "import numpy as np\n",
        "from tensorflow.keras.layers import Input, Dense, Reshape, Flatten, Dropout, LeakyReLU \n",
        "from tensorflow.keras.layers import BatchNormalization\n",
        "from tensorflow.keras.models import Sequential, Model\n",
        "from tensorflow.keras.optimizers import Adam\n",
        "from tensorflow.keras.utils import plot_model\n",
        "from tensorflow.keras.datasets import mnist\n",
        "from random import randint\n",
        "import matplotlib.pyplot as plt"
      ],
      "execution_count": null,
      "outputs": []
    },
    {
      "cell_type": "code",
      "metadata": {
        "id": "zAj74DtNizeQ"
      },
      "source": [
        "class Discriminator(object):\n",
        "    def __init__(self, width = 28, height= 28, channels = 1, latent_size=100):\n",
        "        self.CAPACITY = width*height*channels\n",
        "        self.SHAPE = (width, height, channels) # (28,28,1)을 기억하기 위함.\n",
        "        self.OPTIMIZER = Adam(lr=0.0002, decay=8e-9)\n",
        "\n",
        "        self.Discriminator = self.model()\n",
        "        self.Discriminator.compile(loss='binary_crossentropy', optimizer=self.OPTIMIZER, metrics=['accuracy'] )\n",
        "        self.summary()\n",
        "\n",
        "    def model(self):\n",
        "        model = Sequential()\n",
        "        # 28,28,1 \n",
        "        model.add(Flatten(input_shape=self.SHAPE))\n",
        "        # 28*28*1 = (784,)\n",
        "        model.add(Dense(self.CAPACITY, input_shape=self.SHAPE))\n",
        "        # (28,28,1) -> (784)\n",
        "        model.add(LeakyReLU(alpha=0.2))\n",
        "        model.add(Dense(int(self.CAPACITY/2)))\n",
        "        # (784) -> (392)\n",
        "        model.add(LeakyReLU(alpha=0.2))\n",
        "        # (392) -> (1) : Sigmoid 0~1\n",
        "        model.add(Dense(1, activation='sigmoid'))\n",
        "        return model\n",
        "\n",
        "    def summary(self):\n",
        "        return self.Discriminator.summary()\n"
      ],
      "execution_count": null,
      "outputs": []
    },
    {
      "cell_type": "code",
      "metadata": {
        "id": "jyNASYlhm0-j"
      },
      "source": [
        "class Generator(object):\n",
        "    def __init__(self, width = 28, height= 28, channels = 1, latent_size=100):\n",
        "        self.W = width\n",
        "        self.H = height\n",
        "        self.C = channels\n",
        "        self.OPTIMIZER = Adam(lr=0.0002, decay=8e-9)\n",
        "\n",
        "        self.LATENT_SPACE_SIZE = latent_size\n",
        "        self.latent_space = np.random.normal(0,1,(self.LATENT_SPACE_SIZE,))\n",
        "\n",
        "        self.Generator = self.model()\n",
        "        self.Generator.compile(loss='binary_crossentropy', optimizer=self.OPTIMIZER)\n",
        "        self.summary()\n",
        "\n",
        "    def model(self, block_starting_size=128,num_blocks=4):\n",
        "        model = Sequential()\n",
        "        \n",
        "        block_size = block_starting_size \n",
        "        model.add(Dense(block_size, input_shape=(self.LATENT_SPACE_SIZE,))) \n",
        "        # 가우시안 노이즈를 뿌려줘라!\n",
        "        model.add(LeakyReLU(alpha=0.2))\n",
        "        model.add(BatchNormalization(momentum=0.8))\n",
        "\n",
        "        for i in range(num_blocks-1):\n",
        "            block_size = block_size * 2\n",
        "            model.add(Dense(block_size))\n",
        "            model.add(LeakyReLU(alpha=0.2))\n",
        "            model.add(BatchNormalization(momentum=0.8))\n",
        "\n",
        "        model.add(Dense(self.W * self.H * self.C, activation='tanh'))\n",
        "        model.add(Reshape((self.W, self.H, self.C)))\n",
        "        \n",
        "        return model\n",
        "\n",
        "    def summary(self):\n",
        "        return self.Generator.summary()\n"
      ],
      "execution_count": null,
      "outputs": []
    },
    {
      "cell_type": "code",
      "metadata": {
        "id": "8KoXh7pjnvsy"
      },
      "source": [
        "  class GAN(object):\n",
        "    # Generator 를 학습 시키기 위한 부분\n",
        "    def __init__(self,discriminator,generator):\n",
        "        self.OPTIMIZER = Adam(lr=0.0002, decay=8e-9)\n",
        "        self.Generator = generator\n",
        "        self.Discriminator = discriminator\n",
        "        self.Discriminator.trainable = False\n",
        "        # 나중에 설명해줌.\n",
        "        \n",
        "        self.gan_model = self.model()\n",
        "        self.gan_model.compile(loss='binary_crossentropy', optimizer=self.OPTIMIZER)\n",
        "        self.summary()\n",
        "\n",
        "    def model(self):\n",
        "        model = Sequential()\n",
        "        model.add(self.Generator)\n",
        "        model.add(self.Discriminator)\n",
        "        return model\n",
        "\n",
        "    def summary(self):\n",
        "        return self.gan_model.summary()"
      ],
      "execution_count": null,
      "outputs": []
    },
    {
      "cell_type": "code",
      "metadata": {
        "id": "Xc70rPnUrnvI"
      },
      "source": [
        "class Trainer:\n",
        "    def __init__(self, width = 28, height= 28, channels = 1, latent_size=100, epochs =50000, batch=32, checkpoint=50,model_type=-1):\n",
        "        self.W = width\n",
        "        self.H = height\n",
        "        self.C = channels\n",
        "        self.EPOCHS = epochs\n",
        "        self.BATCH = batch\n",
        "        self.CHECKPOINT = checkpoint\n",
        "        self.model_type=model_type\n",
        "        # 왜 -1인지 나중 설명\n",
        "\n",
        "        self.LATENT_SPACE_SIZE = latent_size\n",
        "\n",
        "        self.generator = Generator(height=self.H, width=self.W, channels=self.C, latent_size=self.LATENT_SPACE_SIZE)\n",
        "        self.discriminator = Discriminator(height=self.H, width=self.W, channels=self.C)\n",
        "        self.gan = GAN(generator=self.generator.Generator, discriminator=self.discriminator.Discriminator)\n",
        "\n",
        "        self.load_MNIST()\n",
        "\n",
        "    def load_MNIST(self,model_type=7):\n",
        "        allowed_types = [-1,0,1,2,3,4,5,6,7,8,9]\n",
        "        if self.model_type not in allowed_types:\n",
        "            print('ERROR: Only Integer Values from -1 to 9 are allowed')\n",
        "\n",
        "        (self.X_train, self.Y_train), (_, _) = mnist.load_data()\n",
        "        if self.model_type!=-1:\n",
        "            self.X_train = self.X_train[np.where(self.Y_train==int(self.model_type))[0]]\n",
        "            # 트레인 데이터의 해당 인덱스를 가져오기! where가 7의 데이터를 가진 인덱스를 반환\n",
        "\n",
        "        \n",
        "        # Rescale -1 to 1\n",
        "        # Find Normalize Function from CV Class  \n",
        "        # (0 ~ 255) -127.5 \n",
        "        # (-127.5 ~ 127.5) / 127.5 \n",
        "        # -1 ~ 1\n",
        "        # 값을 알고있기에 127.5 쓰는거지 MinMaxNorm(0~1)*2 하고 -1 하면 정규화가 됨!!\n",
        "        self.X_train = (np.float32(self.X_train) - 127.5) / 127.5\n",
        "        self.X_train = np.expand_dims(self.X_train, axis=3)\n",
        "        return\n",
        "\n",
        "    def train(self):\n",
        "        for e in range(self.EPOCHS):\n",
        "            count_real_images = int(self.BATCH/2)\n",
        "            starting_index = randint(0, (len(self.X_train)-count_real_images)) \n",
        "            # 60000에서 16 빼줘야 그 곳을 스타팅 포인트로 잡을수 있음\n",
        "            # 16\n",
        "            real_images_raw = self.X_train[ starting_index : (starting_index + count_real_images) ]\n",
        "            x_real_images = real_images_raw.reshape( count_real_images, self.W, self.H, self.C )\n",
        "            # (16,28,28,1) 16개 이미지\n",
        "            y_real_labels = np.ones([count_real_images,1])\n",
        "            # (16,1) 16개 이미지에 대한 정답. 다 진짜니까 1로 넣어줌.\n",
        "            # (D(x_real_images), y_real_labels) 진짜를 진짜로 구분하지 못한 오차.\n",
        "            # (D(x),1)\n",
        "\n",
        "            # Grab Generated Images for this training batch\n",
        "            latent_space_samples = self.sample_latent_space(count_real_images)\n",
        "            x_generated_images = self.generator.Generator.predict(latent_space_samples)\n",
        "            y_generated_labels = np.zeros([self.BATCH-count_real_images,1])\n",
        "\n",
        "            # Combine to train on the discriminator\n",
        "            x_batch = np.concatenate( [x_real_images, x_generated_images] )\n",
        "            y_batch = np.concatenate( [y_real_labels, y_generated_labels] )\n",
        "\n",
        "            # Now, train the discriminator with this batch\n",
        "            discriminator_loss = self.discriminator.Discriminator.train_on_batch(x_batch,y_batch)[0]\n",
        "        \n",
        "            # Generate Noise\n",
        "            if e % 5 == 0:\n",
        "              x_latent_space_samples = self.sample_latent_space(self.BATCH)\n",
        "              y_generated_labels = np.ones([self.BATCH,1])\n",
        "              generator_loss = self.gan.gan_model.train_on_batch(x_latent_space_samples,y_generated_labels)\n",
        "                \n",
        "            if e % self.CHECKPOINT == 0 :\n",
        "              print ('Epoch: '+str(int(e))+', [Discriminator :: Loss: '+str(discriminator_loss)+'], [ Generator :: Loss: '+str(generator_loss)+']')\n",
        "              self.plot_checkpoint(e)\n",
        "                        \n",
        "        return\n",
        "\n",
        "    def sample_latent_space(self, instances):\n",
        "        return np.random.normal(0, 1, (instances, self.LATENT_SPACE_SIZE))\n",
        "\n",
        "    def plot_checkpoint(self,e):\n",
        "        noise = self.sample_latent_space(16)\n",
        "        images = self.generator.Generator.predict(noise)\n",
        "        \n",
        "        plt.figure(figsize=(4,4))\n",
        "        for i in range(images.shape[0]):\n",
        "            plt.subplot(4, 4, i+1)\n",
        "            image = images[i, :, :, :]\n",
        "            image = (image *127.5) + 127.5\n",
        "            image = np.reshape(image*255.0, [self.H,self.W])\n",
        "            plt.imshow(image, cmap='gray')\n",
        "            plt.axis('off')\n",
        "        plt.tight_layout()\n",
        "        plt.show()\n",
        "#         plt.close('all')\n",
        "        return"
      ],
      "execution_count": null,
      "outputs": []
    },
    {
      "cell_type": "code",
      "metadata": {
        "id": "Yc4y5Tik3lbT"
      },
      "source": [
        "# Command Line Argument Method\n",
        "HEIGHT  = 28\n",
        "WIDTH   = 28\n",
        "CHANNEL = 1\n",
        "LATENT_SPACE_SIZE = 100\n",
        "EPOCHS = 5000\n",
        "BATCH = 32\n",
        "CHECKPOINT = 100\n",
        "MODEL_TYPE = 5"
      ],
      "execution_count": null,
      "outputs": []
    },
    {
      "cell_type": "code",
      "metadata": {
        "colab": {
          "base_uri": "https://localhost:8080/"
        },
        "id": "ZINxR7YP3n9R",
        "outputId": "def0c3b3-63a6-4894-db37-5be30ecc19d5"
      },
      "source": [
        "trainer = Trainer(height=HEIGHT,\\\n",
        "                 width=WIDTH,\\\n",
        "                 channels=CHANNEL,\\\n",
        "                 latent_size=LATENT_SPACE_SIZE,\\\n",
        "                 epochs =EPOCHS,\\\n",
        "                 batch=BATCH,\\\n",
        "                 checkpoint=CHECKPOINT,\n",
        "                 model_type=MODEL_TYPE)\n",
        "\n"
      ],
      "execution_count": null,
      "outputs": [
        {
          "output_type": "stream",
          "text": [
            "/usr/local/lib/python3.7/dist-packages/tensorflow/python/keras/optimizer_v2/optimizer_v2.py:375: UserWarning: The `lr` argument is deprecated, use `learning_rate` instead.\n",
            "  \"The `lr` argument is deprecated, use `learning_rate` instead.\")\n"
          ],
          "name": "stderr"
        },
        {
          "output_type": "stream",
          "text": [
            "Model: \"sequential\"\n",
            "_________________________________________________________________\n",
            "Layer (type)                 Output Shape              Param #   \n",
            "=================================================================\n",
            "dense (Dense)                (None, 128)               12928     \n",
            "_________________________________________________________________\n",
            "leaky_re_lu (LeakyReLU)      (None, 128)               0         \n",
            "_________________________________________________________________\n",
            "batch_normalization (BatchNo (None, 128)               512       \n",
            "_________________________________________________________________\n",
            "dense_1 (Dense)              (None, 256)               33024     \n",
            "_________________________________________________________________\n",
            "leaky_re_lu_1 (LeakyReLU)    (None, 256)               0         \n",
            "_________________________________________________________________\n",
            "batch_normalization_1 (Batch (None, 256)               1024      \n",
            "_________________________________________________________________\n",
            "dense_2 (Dense)              (None, 512)               131584    \n",
            "_________________________________________________________________\n",
            "leaky_re_lu_2 (LeakyReLU)    (None, 512)               0         \n",
            "_________________________________________________________________\n",
            "batch_normalization_2 (Batch (None, 512)               2048      \n",
            "_________________________________________________________________\n",
            "dense_3 (Dense)              (None, 1024)              525312    \n",
            "_________________________________________________________________\n",
            "leaky_re_lu_3 (LeakyReLU)    (None, 1024)              0         \n",
            "_________________________________________________________________\n",
            "batch_normalization_3 (Batch (None, 1024)              4096      \n",
            "_________________________________________________________________\n",
            "dense_4 (Dense)              (None, 784)               803600    \n",
            "_________________________________________________________________\n",
            "reshape (Reshape)            (None, 28, 28, 1)         0         \n",
            "=================================================================\n",
            "Total params: 1,514,128\n",
            "Trainable params: 1,510,288\n",
            "Non-trainable params: 3,840\n",
            "_________________________________________________________________\n",
            "Model: \"sequential_1\"\n",
            "_________________________________________________________________\n",
            "Layer (type)                 Output Shape              Param #   \n",
            "=================================================================\n",
            "flatten (Flatten)            (None, 784)               0         \n",
            "_________________________________________________________________\n",
            "dense_5 (Dense)              (None, 784)               615440    \n",
            "_________________________________________________________________\n",
            "leaky_re_lu_4 (LeakyReLU)    (None, 784)               0         \n",
            "_________________________________________________________________\n",
            "dense_6 (Dense)              (None, 392)               307720    \n",
            "_________________________________________________________________\n",
            "leaky_re_lu_5 (LeakyReLU)    (None, 392)               0         \n",
            "_________________________________________________________________\n",
            "dense_7 (Dense)              (None, 1)                 393       \n",
            "=================================================================\n",
            "Total params: 923,553\n",
            "Trainable params: 923,553\n",
            "Non-trainable params: 0\n",
            "_________________________________________________________________\n",
            "Model: \"sequential_2\"\n",
            "_________________________________________________________________\n",
            "Layer (type)                 Output Shape              Param #   \n",
            "=================================================================\n",
            "sequential (Sequential)      (None, 28, 28, 1)         1514128   \n",
            "_________________________________________________________________\n",
            "sequential_1 (Sequential)    (None, 1)                 923553    \n",
            "=================================================================\n",
            "Total params: 2,437,681\n",
            "Trainable params: 1,510,288\n",
            "Non-trainable params: 927,393\n",
            "_________________________________________________________________\n",
            "Downloading data from https://storage.googleapis.com/tensorflow/tf-keras-datasets/mnist.npz\n",
            "11493376/11490434 [==============================] - 0s 0us/step\n"
          ],
          "name": "stdout"
        }
      ]
    },
    {
      "cell_type": "code",
      "metadata": {
        "id": "U6dUlyFr3pa7"
      },
      "source": [
        "trainer.train()"
      ],
      "execution_count": null,
      "outputs": []
    },
    {
      "cell_type": "code",
      "metadata": {
        "colab": {
          "base_uri": "https://localhost:8080/",
          "height": 729
        },
        "id": "vIm4xb4T3yY4",
        "outputId": "a910b6c3-aead-4f91-a412-9b9ac61b4b74"
      },
      "source": [
        "noise = trainer.sample_latent_space(16)\n",
        "images = trainer.generator.Generator.predict(noise)\n",
        "\n",
        "plt.figure(figsize=(10,10))\n",
        "for i in range(images.shape[0]):\n",
        "    plt.subplot(4, 4, i+1)\n",
        "    image = images[i, :, :, :]\n",
        "    image = np.reshape(image, [28,28])\n",
        "    plt.imshow(image, cmap='gray')\n",
        "    plt.axis('off')\n",
        "plt.tight_layout()\n",
        "plt.show()"
      ],
      "execution_count": null,
      "outputs": [
        {
          "output_type": "display_data",
          "data": {
            "image/png": "[encoded data removed]",
            "text/plain": [
              "<Figure size 720x720 with 16 Axes>"
            ]
          },
          "metadata": {
            "tags": [],
            "needs_background": "light"
          }
        }
      ]
    }
  ]
}