{
  "nbformat": 4,
  "nbformat_minor": 0,
  "metadata": {
    "colab": {
      "name": "TF 2.x Cifar10.ipynb",
      "provenance": [],
      "collapsed_sections": []
    },
    "kernelspec": {
      "name": "python3",
      "display_name": "Python 3"
    },
    "language_info": {
      "name": "python"
    },
    "accelerator": "GPU"
  },
  "cells": [
    {
      "cell_type": "code",
      "metadata": {
        "id": "mOW9RcSCikje"
      },
      "source": [
        "from tensorflow import keras\n",
        "from tensorflow.keras.datasets import cifar10\n",
        "from tensorflow.keras.models import Sequential, Model\n",
        "from tensorflow.keras.layers import Dense, Dropout, Activation, Flatten\n",
        "from tensorflow.keras.layers import Conv2D, MaxPooling2D, GlobalAveragePooling2D, BatchNormalization, Input\n",
        "\n",
        "import os"
      ],
      "execution_count": 1,
      "outputs": []
    },
    {
      "cell_type": "code",
      "metadata": {
        "id": "jSehiGynjJmq"
      },
      "source": [
        "batch_size = 16\n",
        "num_classes = 10\n",
        "epochs = 30"
      ],
      "execution_count": 2,
      "outputs": []
    },
    {
      "cell_type": "code",
      "metadata": {
        "colab": {
          "base_uri": "https://localhost:8080/"
        },
        "id": "z26fjcmcjPZy",
        "outputId": "57028e56-355e-4a3c-9db2-fcf17a4fed20"
      },
      "source": [
        "(x_train, y_train), (x_test, y_test) = cifar10.load_data()\n",
        "print('x_train shape:', x_train.shape)\n",
        "print(x_train.shape[0], 'train samples')\n",
        "print(x_test.shape[0], 'test samples')\n",
        "print('y_train shape:', y_train.shape)\n",
        "print(y_train.shape[0], 'train samples')\n",
        "print(y_test.shape[0], 'test samples')"
      ],
      "execution_count": 3,
      "outputs": [
        {
          "output_type": "stream",
          "text": [
            "Downloading data from https://www.cs.toronto.edu/~kriz/cifar-10-python.tar.gz\n",
            "170500096/170498071 [==============================] - 2s 0us/step\n",
            "x_train shape: (50000, 32, 32, 3)\n",
            "50000 train samples\n",
            "10000 test samples\n",
            "y_train shape: (50000, 1)\n",
            "50000 train samples\n",
            "10000 test samples\n"
          ],
          "name": "stdout"
        }
      ]
    },
    {
      "cell_type": "code",
      "metadata": {
        "colab": {
          "base_uri": "https://localhost:8080/"
        },
        "id": "n_N4ZKVCjvUC",
        "outputId": "05131d8b-1156-473e-bbf1-b6c4a127adfd"
      },
      "source": [
        "y_train[1]"
      ],
      "execution_count": 4,
      "outputs": [
        {
          "output_type": "execute_result",
          "data": {
            "text/plain": [
              "array([9], dtype=uint8)"
            ]
          },
          "metadata": {
            "tags": []
          },
          "execution_count": 4
        }
      ]
    },
    {
      "cell_type": "code",
      "metadata": {
        "id": "_K6kNd0Hjz2i"
      },
      "source": [
        "y_train = keras.utils.to_categorical(y_train, num_classes)\n",
        "y_test = keras.utils.to_categorical(y_test, num_classes)"
      ],
      "execution_count": 5,
      "outputs": []
    },
    {
      "cell_type": "code",
      "metadata": {
        "colab": {
          "base_uri": "https://localhost:8080/"
        },
        "id": "qZdwhNCpj-uS",
        "outputId": "de61a10b-a14a-4890-fd59-ccd36faa63ef"
      },
      "source": [
        "y_train[1]"
      ],
      "execution_count": 6,
      "outputs": [
        {
          "output_type": "execute_result",
          "data": {
            "text/plain": [
              "array([0., 0., 0., 0., 0., 0., 0., 0., 0., 1.], dtype=float32)"
            ]
          },
          "metadata": {
            "tags": []
          },
          "execution_count": 6
        }
      ]
    },
    {
      "cell_type": "code",
      "metadata": {
        "id": "ZKVmMeTzkAZj"
      },
      "source": [
        "x_train = x_train.astype('float32')\n",
        "x_test = x_test.astype('float32')\n",
        "x_train /= 255\n",
        "x_test /= 255"
      ],
      "execution_count": 7,
      "outputs": []
    },
    {
      "cell_type": "code",
      "metadata": {
        "id": "cDf4FIzYkKTL"
      },
      "source": [
        "n_kernels = 32\n",
        "x1 = Input((32,32,3))\n",
        "x = Conv2D(64,(3,3), kernel_initializer='he_normal', use_bias=False, padding='same')(x1)\n",
        "x = BatchNormalization()(x)\n",
        "x = Activation('relu')(x)\n",
        "x = MaxPooling2D()(x)\n",
        "x = Dropout(0.1)(x)\n",
        "x = Conv2D(128,(3,3), kernel_initializer='he_normal', use_bias=False, padding='same')(x)\n",
        "x = BatchNormalization()(x)\n",
        "x = Activation('relu')(x)\n",
        "x = MaxPooling2D()(x)\n",
        "x = Dropout(0.1)(x)\n",
        "x = Conv2D(256,(3,3), kernel_initializer='he_normal', use_bias=False, padding='same')(x)\n",
        "x = BatchNormalization()(x)\n",
        "x = Activation('relu')(x)\n",
        "x = Flatten()(x)\n",
        "last_x = Dense(num_classes, activation='softmax')(x)"
      ],
      "execution_count": 8,
      "outputs": []
    },
    {
      "cell_type": "code",
      "metadata": {
        "colab": {
          "base_uri": "https://localhost:8080/"
        },
        "id": "qVjfBjSWpNF0",
        "outputId": "207ef9bb-9e19-4cfc-95e4-f3d066a8e69f"
      },
      "source": [
        "opt = keras.optimizers.RMSprop(lr=0.0001, decay=1e-6)"
      ],
      "execution_count": 9,
      "outputs": [
        {
          "output_type": "stream",
          "text": [
            "/usr/local/lib/python3.7/dist-packages/tensorflow/python/keras/optimizer_v2/optimizer_v2.py:375: UserWarning: The `lr` argument is deprecated, use `learning_rate` instead.\n",
            "  \"The `lr` argument is deprecated, use `learning_rate` instead.\")\n"
          ],
          "name": "stderr"
        }
      ]
    },
    {
      "cell_type": "code",
      "metadata": {
        "id": "3Htb2tRHpcx0"
      },
      "source": [
        "model = Model(inputs=[x1], outputs=[last_x])\n",
        "model.compile(loss='categorical_crossentropy', optimizer=opt,metrics=['accuracy'])"
      ],
      "execution_count": 10,
      "outputs": []
    },
    {
      "cell_type": "code",
      "metadata": {
        "colab": {
          "base_uri": "https://localhost:8080/"
        },
        "id": "xpWIJ95dqevd",
        "outputId": "dfcb4a8b-6876-4b5a-f8c9-98e79cdc4c0f"
      },
      "source": [
        "trained_model = model.fit(x_train, y_train, batch_size=batch_size, epochs=epochs, validation_data=(x_test,y_test), shuffle=True)"
      ],
      "execution_count": 11,
      "outputs": [
        {
          "output_type": "stream",
          "text": [
            "Epoch 1/30\n",
            "3125/3125 [==============================] - 48s 6ms/step - loss: 1.4304 - accuracy: 0.5011 - val_loss: 1.3317 - val_accuracy: 0.5445\n",
            "Epoch 2/30\n",
            "3125/3125 [==============================] - 18s 6ms/step - loss: 1.0825 - accuracy: 0.6249 - val_loss: 1.2904 - val_accuracy: 0.5831\n",
            "Epoch 3/30\n",
            "3125/3125 [==============================] - 18s 6ms/step - loss: 0.9466 - accuracy: 0.6727 - val_loss: 1.0436 - val_accuracy: 0.6532\n",
            "Epoch 4/30\n",
            "3125/3125 [==============================] - 18s 6ms/step - loss: 0.8441 - accuracy: 0.7092 - val_loss: 1.0327 - val_accuracy: 0.6611\n",
            "Epoch 5/30\n",
            "3125/3125 [==============================] - 18s 6ms/step - loss: 0.7740 - accuracy: 0.7350 - val_loss: 0.8987 - val_accuracy: 0.6974\n",
            "Epoch 6/30\n",
            "3125/3125 [==============================] - 17s 6ms/step - loss: 0.7140 - accuracy: 0.7535 - val_loss: 0.8938 - val_accuracy: 0.7119\n",
            "Epoch 7/30\n",
            "3125/3125 [==============================] - 18s 6ms/step - loss: 0.6631 - accuracy: 0.7717 - val_loss: 1.0052 - val_accuracy: 0.6804\n",
            "Epoch 8/30\n",
            "3125/3125 [==============================] - 17s 6ms/step - loss: 0.6151 - accuracy: 0.7881 - val_loss: 0.9535 - val_accuracy: 0.7012\n",
            "Epoch 9/30\n",
            "3125/3125 [==============================] - 18s 6ms/step - loss: 0.5785 - accuracy: 0.7999 - val_loss: 0.8585 - val_accuracy: 0.7278\n",
            "Epoch 10/30\n",
            "3125/3125 [==============================] - 18s 6ms/step - loss: 0.5378 - accuracy: 0.8144 - val_loss: 0.8168 - val_accuracy: 0.7374\n",
            "Epoch 11/30\n",
            "3125/3125 [==============================] - 17s 6ms/step - loss: 0.5041 - accuracy: 0.8240 - val_loss: 0.9176 - val_accuracy: 0.7155\n",
            "Epoch 12/30\n",
            "3125/3125 [==============================] - 17s 6ms/step - loss: 0.4744 - accuracy: 0.8359 - val_loss: 0.8296 - val_accuracy: 0.7404\n",
            "Epoch 13/30\n",
            "3125/3125 [==============================] - 18s 6ms/step - loss: 0.4469 - accuracy: 0.8436 - val_loss: 0.8378 - val_accuracy: 0.7419\n",
            "Epoch 14/30\n",
            "3125/3125 [==============================] - 18s 6ms/step - loss: 0.4194 - accuracy: 0.8535 - val_loss: 0.7695 - val_accuracy: 0.7628\n",
            "Epoch 15/30\n",
            "3125/3125 [==============================] - 18s 6ms/step - loss: 0.3905 - accuracy: 0.8650 - val_loss: 0.7901 - val_accuracy: 0.7571\n",
            "Epoch 16/30\n",
            "3125/3125 [==============================] - 18s 6ms/step - loss: 0.3720 - accuracy: 0.8702 - val_loss: 0.8052 - val_accuracy: 0.7602\n",
            "Epoch 17/30\n",
            "3125/3125 [==============================] - 18s 6ms/step - loss: 0.3476 - accuracy: 0.8793 - val_loss: 0.8009 - val_accuracy: 0.7613\n",
            "Epoch 18/30\n",
            "3125/3125 [==============================] - 18s 6ms/step - loss: 0.3247 - accuracy: 0.8876 - val_loss: 0.8400 - val_accuracy: 0.7553\n",
            "Epoch 19/30\n",
            "3125/3125 [==============================] - 18s 6ms/step - loss: 0.3064 - accuracy: 0.8936 - val_loss: 0.8495 - val_accuracy: 0.7554\n",
            "Epoch 20/30\n",
            "3125/3125 [==============================] - 18s 6ms/step - loss: 0.2913 - accuracy: 0.8997 - val_loss: 0.8415 - val_accuracy: 0.7540\n",
            "Epoch 21/30\n",
            "3125/3125 [==============================] - 18s 6ms/step - loss: 0.2727 - accuracy: 0.9055 - val_loss: 0.8086 - val_accuracy: 0.7710\n",
            "Epoch 22/30\n",
            "3125/3125 [==============================] - 18s 6ms/step - loss: 0.2566 - accuracy: 0.9106 - val_loss: 0.8415 - val_accuracy: 0.7578\n",
            "Epoch 23/30\n",
            "3125/3125 [==============================] - 17s 6ms/step - loss: 0.2418 - accuracy: 0.9167 - val_loss: 0.8602 - val_accuracy: 0.7612\n",
            "Epoch 24/30\n",
            "3125/3125 [==============================] - 18s 6ms/step - loss: 0.2286 - accuracy: 0.9207 - val_loss: 0.8031 - val_accuracy: 0.7717\n",
            "Epoch 25/30\n",
            "3125/3125 [==============================] - 18s 6ms/step - loss: 0.2148 - accuracy: 0.9252 - val_loss: 0.8794 - val_accuracy: 0.7623\n",
            "Epoch 26/30\n",
            "3125/3125 [==============================] - 18s 6ms/step - loss: 0.2066 - accuracy: 0.9270 - val_loss: 0.7966 - val_accuracy: 0.7782\n",
            "Epoch 27/30\n",
            "3125/3125 [==============================] - 18s 6ms/step - loss: 0.1916 - accuracy: 0.9331 - val_loss: 0.8515 - val_accuracy: 0.7728\n",
            "Epoch 28/30\n",
            "3125/3125 [==============================] - 18s 6ms/step - loss: 0.1830 - accuracy: 0.9382 - val_loss: 0.9337 - val_accuracy: 0.7582\n",
            "Epoch 29/30\n",
            "3125/3125 [==============================] - 18s 6ms/step - loss: 0.1698 - accuracy: 0.9418 - val_loss: 0.8667 - val_accuracy: 0.7738\n",
            "Epoch 30/30\n",
            "3125/3125 [==============================] - 18s 6ms/step - loss: 0.1638 - accuracy: 0.9436 - val_loss: 0.8911 - val_accuracy: 0.7720\n"
          ],
          "name": "stdout"
        }
      ]
    },
    {
      "cell_type": "code",
      "metadata": {
        "id": "56xS0S9gtN4B"
      },
      "source": [
        "epochs_range = range(30)\n",
        "validation_accuracy = trained_model.history['val_accuracy']\n",
        "training_accuracy = trained_model.history['accuracy']"
      ],
      "execution_count": 14,
      "outputs": []
    },
    {
      "cell_type": "code",
      "metadata": {
        "colab": {
          "base_uri": "https://localhost:8080/",
          "height": 279
        },
        "id": "yVTbhAQguYHX",
        "outputId": "bdab47b8-2811-47e9-871d-a6d27821f9b7"
      },
      "source": [
        "import matplotlib.pyplot as plt\n",
        "\n",
        "plt.plot(epochs_range, training_accuracy, 'b+', label='training accuracy')\n",
        "# ‘bo’는 파란색 점을 의미합니다\n",
        "plt.plot(epochs_range, validation_accuracy, 'bo', label='validation accuracy')\n",
        "plt.xlabel('Epochs')\n",
        "plt.ylabel('Validation accuracy')\n",
        "plt.legend()\n",
        "\n",
        "plt.show()"
      ],
      "execution_count": 15,
      "outputs": [
        {
          "output_type": "display_data",
          "data": {
            "image/png": "[encoded data removed]",
            "text/plain": [
              "<Figure size 432x288 with 1 Axes>"
            ]
          },
          "metadata": {
            "tags": [],
            "needs_background": "light"
          }
        }
      ]
    },
    {
      "cell_type": "code",
      "metadata": {
        "colab": {
          "base_uri": "https://localhost:8080/"
        },
        "id": "pI5P-O9bvCJT",
        "outputId": "ff6314fc-da8b-4fb8-a52a-ad0b80ce6eea"
      },
      "source": [
        "scores = model.evaluate(x_test, y_test, verbose=1)\n",
        "print('Test loss:', scores[0])\n",
        "print('Test accuracy:', scores[1])\n",
        "# 만족할만한 결과물이 나오진 않았음."
      ],
      "execution_count": 16,
      "outputs": [
        {
          "output_type": "stream",
          "text": [
            "313/313 [==============================] - 1s 4ms/step - loss: 0.8911 - accuracy: 0.7720\n",
            "Test loss: 0.8911337852478027\n",
            "Test accuracy: 0.7720000147819519\n"
          ],
          "name": "stdout"
        }
      ]
    }
  ]
}