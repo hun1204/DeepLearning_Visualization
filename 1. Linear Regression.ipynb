# 1.x 버전과는 다르게 Eager Execution을 적용해 코드의 직관성이 높아짐 / 2.x 버전부터는 직관적인 Keras 모델 채용
# CPU/GPU/TPU -> TensorFlow(BACK-END) -> Keras(High-Level API)

import tensorflow as tf
import numpy as np
from tensorflow.keras.models import Sequential
from tensorflow.keras.layers import Flatten, Dense
from tensorflow.keras.optimizers import SGD
tf.__version__

# target model
# y = 2x + 1
# w = 2, b = 1
# 입력
x_train = [1,2,3,4,5,6]
# 정답
y_train = [3,5,7,9,11,13]

model = Sequential()

model.add(Flatten(input_shape=(1,))) # 입력이 1차원에 입력값이 하나인 vector값
model.add(Dense(1, activation='linear')) # 출력층

model.compile(optimizer=SGD(learning_rate=1e-2), loss='mse')
model.summary()

hist = model.fit(x_train, y_train, epochs=1000, verbose=1)
result = model.predict(np.array([-3.1, 3.0, 3.5, 15.0, 20.1]))
print(result)

# 가중치와 바이어스 보기!
print(model.weights)
