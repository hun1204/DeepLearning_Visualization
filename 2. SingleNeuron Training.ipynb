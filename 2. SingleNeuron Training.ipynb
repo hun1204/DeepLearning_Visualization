import tensorflow as tf
import numpy as np

from tensorflow.keras.models import Sequential
from tensorflow.keras.layers import Flatten, Dense
from tensorflow.keras.optimizers import SGD

tf.__version__

x_data = np.array([1.0])
y_data = np.array([4.0])

model = Sequential()
model.add(Flatten(input_shape=(1,)))
model.add(Dense(1, activation='linear'))
model.compile(optimizer=SGD(learning_rate=1e-2), loss='mse')
model.summary()


hist = model.fit(x_data, y_data, epochs=1000)
result = model.predict(np.array([-3.1, 3.0, 3.5, 15.0, 20.1]))
print(result)

# 더하기와 곱하기중 갈피를 못잡는 모습을 볼 수 있음. 은닉층이 있으면 해결됨.

from tensorflow.keras.datasets import mnist

(train_images, train_labels), (test_images, test_labels) = mnist.load_data()

print(type(train_images))
print(dir(train_images))

print(train_images.shape, train_labels.shape)

import matplotlib.pyplot as plt
digit = train_images[0]
plt.imshow(digit, cmap=plt.cm.binary)
plt.show()
print(train_labels[0])

import tensorflow as tf
import numpy as np

from tensorflow.keras.models import Sequential
from tensorflow.keras.layers import Flatten, Dense

model = Sequential()
model.add(Dense(512, activation='relu',input_shape=(28*28,)))
model.add(Dense(10, activation='softmax'))

model.compile(optimizer='rmsprop', loss='categorical_crossentropy',
              metrics=['accuracy'])


train_images = train_images.reshape((60000, 28*28))
train_images = train_images.astype('float32') / 255

test_images = test_images.reshape((10000,28*28))
test_images = test_images.astype('float32') / 255

from tensorflow.keras.utils import to_categorical

train_labels = to_categorical(train_labels)
test_labels = to_categorical(test_labels)

train_labels[0]

model.summary()

model.fit(train_images, train_labels, validation_split=0.1, epochs=5, batch_size=128)

test_loss, test_acc = model.evaluate(test_images,test_labels)

print('test_acc : ',test_acc)
